{
  "nbformat": 4,
  "nbformat_minor": 0,
  "metadata": {
    "colab": {
      "name": "FLOP_Count",
      "provenance": [],
      "collapsed_sections": [],
      "machine_shape": "hm"
    },
    "kernelspec": {
      "display_name": "Python 3",
      "name": "python3"
    }
  },
  "cells": [
    {
      "cell_type": "markdown",
      "metadata": {
        "id": "oaw3WpByPPPb"
      },
      "source": [
        "## Setup"
      ]
    },
    {
      "cell_type": "code",
      "metadata": {
        "id": "lIYdn1woOS1n"
      },
      "source": [
        "!pip install -q fvcore\n",
        "!pip install -q git+https://github.com/rwightman/pytorch-image-models"
      ],
      "execution_count": null,
      "outputs": []
    },
    {
      "cell_type": "code",
      "metadata": {
        "id": "A0WtC9zHW-1p"
      },
      "source": [
        "from fvcore.nn import FlopCountAnalysis\n",
        "import torch\n",
        "import timm"
      ],
      "execution_count": null,
      "outputs": []
    },
    {
      "cell_type": "markdown",
      "metadata": {
        "id": "jTjnAerKPQ1B"
      },
      "source": [
        "## BiT Models"
      ]
    },
    {
      "cell_type": "code",
      "metadata": {
        "id": "LDHn26soW4Oj"
      },
      "source": [
        "all_bit_models = timm.list_models(\"*bit*\")\n",
        "all_bit_models"
      ],
      "execution_count": null,
      "outputs": []
    },
    {
      "cell_type": "code",
      "metadata": {
        "id": "f4hqoXTNXBxo"
      },
      "source": [
        "input = torch.randn(1, 3, 224, 224)\n",
        "flop_map_bit = {}\n",
        "\n",
        "for bit_model_name in all_bit_models:\n",
        "    if not any(x in bit_model_name for x in [\"teacher\", \"distilled\", \"in21k\"]):\n",
        "        bit_model = timm.create_model(bit_model_name)\n",
        "        flops = FlopCountAnalysis(bit_model, input)\n",
        "        flops = flops.total() / 1e6\n",
        "        flop_map_bit.update({bit_model_name: f\"{flops:.3f} M\"})"
      ],
      "execution_count": null,
      "outputs": []
    },
    {
      "cell_type": "code",
      "metadata": {
        "id": "khubUkgMbhcc"
      },
      "source": [
        "flop_map_bit"
      ],
      "execution_count": null,
      "outputs": []
    },
    {
      "cell_type": "markdown",
      "metadata": {
        "id": "eX3lc2S7PS98"
      },
      "source": [
        "## ViT Models"
      ]
    },
    {
      "cell_type": "code",
      "metadata": {
        "id": "YQSlA_U1bjPQ"
      },
      "source": [
        "all_vit_models = timm.list_models(\"vit*\")\n",
        "all_vit_models"
      ],
      "execution_count": null,
      "outputs": []
    },
    {
      "cell_type": "code",
      "metadata": {
        "id": "k75QAme_boNG"
      },
      "source": [
        "input = torch.randn(1, 3, 224, 224)\n",
        "flop_map_vit = {}\n",
        "\n",
        "for vit_model_name in all_vit_models:\n",
        "    if not any(x in vit_model_name for x in [\"384\", \"in21k\", \"r26\", \"r50\", \"resnet\", \"tiny\", \"miil\", \"sam\"]):\n",
        "        vit_model = timm.create_model(vit_model_name)\n",
        "        flops = FlopCountAnalysis(vit_model, input)\n",
        "        flops = flops.total() / 1e6\n",
        "        flop_map_vit.update({vit_model_name: f\"{flops:.3f} M\"})"
      ],
      "execution_count": null,
      "outputs": []
    },
    {
      "cell_type": "code",
      "metadata": {
        "id": "GasEKhn2cTZY"
      },
      "source": [
        "flop_map_vit"
      ],
      "execution_count": null,
      "outputs": []
    },
    {
      "cell_type": "code",
      "metadata": {
        "colab": {
          "base_uri": "https://localhost:8080/"
        },
        "id": "P6bqkf7WkBFi",
        "outputId": "4505c216-a35b-495b-8ea1-0d104112ac1c"
      },
      "source": [
        "# 79.086%\n",
        "input = torch.randn(1, 3, 224, 224)\n",
        "vit_model = timm.create_model(\"vit_small_patch16_224\")\n",
        "flops = FlopCountAnalysis(vit_model, input)\n",
        "flops.total() / 1e6"
      ],
      "execution_count": null,
      "outputs": [
        {
          "output_type": "stream",
          "name": "stderr",
          "text": [
            "/usr/local/lib/python3.7/dist-packages/torch/_tensor.py:575: UserWarning: floor_divide is deprecated, and will be removed in a future version of pytorch. It currently rounds toward 0 (like the 'trunc' function NOT 'floor'). This results in incorrect rounding for negative values.\n",
            "To keep the current behavior, use torch.div(a, b, rounding_mode='trunc'), or for actual floor division, use torch.div(a, b, rounding_mode='floor'). (Triggered internally at  /pytorch/aten/src/ATen/native/BinaryOps.cpp:467.)\n",
            "  return torch.floor_divide(self, other)\n",
            "Unsupported operator aten::add encountered 25 time(s)\n",
            "Unsupported operator aten::mul encountered 12 time(s)\n",
            "Unsupported operator aten::softmax encountered 12 time(s)\n",
            "Unsupported operator aten::gelu encountered 12 time(s)\n",
            "The following submodules of the model were never called during the trace of the graph. They may be unused, or they were accessed by direct calls to .forward() or via other python methods. In the latter case they will have zeros for statistics, though their statistics will still contribute to their parent calling module.\n",
            "\n"
          ]
        },
        {
          "output_type": "execute_result",
          "data": {
            "text/plain": [
              "4608.338304"
            ]
          },
          "metadata": {},
          "execution_count": 4
        }
      ]
    },
    {
      "cell_type": "markdown",
      "metadata": {
        "id": "1_RrNU3jPWdA"
      },
      "source": [
        "## Other Models"
      ]
    },
    {
      "cell_type": "code",
      "metadata": {
        "id": "u4w4C1JjQvCJ"
      },
      "source": [
        "def count_parameters(model):\n",
        "    return sum(p.numel() for p in model.parameters() if p.requires_grad)"
      ],
      "execution_count": null,
      "outputs": []
    },
    {
      "cell_type": "code",
      "metadata": {
        "id": "1nPsEUWiPXWG"
      },
      "source": [
        "other_models = [\n",
        "    \"gernet_l\",\n",
        "    \"gernet_m\",\n",
        "    \"gernet_s\",\n",
        "    \"skresnet18\",\n",
        "    \"skresnet34\",\n",
        "    \"skresnext50_32x4d\",\n",
        "    \"gc_efficientnetv2_rw_t\"\n",
        "]\n",
        "\n",
        "input = torch.randn(1, 3, 224, 224)\n",
        "flop_map_others = {}\n",
        "parameters_others = {}\n",
        "\n",
        "for other_model_name in other_models:\n",
        "    print(other_model_name)\n",
        "    other_model = timm.create_model(other_model_name).eval()\n",
        "    flops = FlopCountAnalysis(other_model, input)\n",
        "    flops = flops.total() / 1e6\n",
        "\n",
        "    parameters = count_parameters(other_model) / 1e6\n",
        "    parameters_others.update({other_model_name: f\"{parameters:.3f} M\"})\n",
        "    flop_map_others.update({other_model_name: f\"{flops:.3f} M\"})"
      ],
      "execution_count": null,
      "outputs": []
    },
    {
      "cell_type": "code",
      "metadata": {
        "id": "lnD2LqBjRrUt"
      },
      "source": [
        "parameters_others, flop_map_others"
      ],
      "execution_count": null,
      "outputs": []
    },
    {
      "cell_type": "markdown",
      "metadata": {
        "id": "xgfpvORLW_A_"
      },
      "source": [
        "## ResNet50"
      ]
    },
    {
      "cell_type": "code",
      "metadata": {
        "id": "XHiRvY4gXAFd"
      },
      "source": [
        "import torchvision\n",
        "\n",
        "resnet50 = torchvision.models.resnet50()\n",
        "input = torch.randn(1, 3, 224, 224)\n",
        "flops = FlopCountAnalysis(resnet50, input)\n",
        "flops = flops.total() / 1e6\n",
        "flops"
      ],
      "execution_count": null,
      "outputs": []
    }
  ]
}