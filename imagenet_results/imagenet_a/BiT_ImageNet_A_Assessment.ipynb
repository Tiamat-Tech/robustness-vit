{
 "cells": [
  {
   "cell_type": "markdown",
   "metadata": {},
   "source": [
    "<a href=\"https://colab.research.google.com/github/sayakpaul/robustness-vit/blob/main/imagenet_results/imagenet_a/BiT_ImageNet_A_Assessment.ipynb\" target=\"_parent\"><img src=\"https://colab.research.google.com/assets/colab-badge.svg\" alt=\"Open In Colab\"/></a>"
   ]
  },
  {
   "cell_type": "markdown",
   "metadata": {
    "id": "BE5CTPhIkzlL"
   },
   "source": [
    "Reference:\n",
    "* https://colab.research.google.com/github/google-research/big_transfer/blob/master/colabs/big_transfer_tf2.ipynb"
   ]
  },
  {
   "cell_type": "markdown",
   "metadata": {
    "id": "eky6odr43mkV"
   },
   "source": [
    "## Setup"
   ]
  },
  {
   "cell_type": "code",
   "execution_count": 1,
   "metadata": {
    "id": "FcAZhU7sg3Xv"
   },
   "outputs": [],
   "source": [
    "import tensorflow as tf\n",
    "import tensorflow_hub as hub\n",
    "import tensorflow_datasets as tfds \n",
    "\n",
    "import pickle\n",
    "import numpy as np\n",
    "import matplotlib.pyplot as plt\n",
    "from tqdm.notebook import tqdm"
   ]
  },
  {
   "cell_type": "code",
   "execution_count": 2,
   "metadata": {
    "id": "P3TPhTihnshQ"
   },
   "outputs": [],
   "source": [
    "BATCH_SIZE = 32 # Reduce if ResourceExhaustedError happens\n",
    "AUTO = tf.data.AUTOTUNE"
   ]
  },
  {
   "cell_type": "markdown",
   "metadata": {
    "id": "1FfDv1my3oGn"
   },
   "source": [
    "## Data loader"
   ]
  },
  {
   "cell_type": "code",
   "execution_count": 3,
   "metadata": {
    "id": "Em5VBheWkmey"
   },
   "outputs": [],
   "source": [
    "def preprocess_image(image, label):\n",
    "    image = tf.image.convert_image_dtype(image, tf.float32)  \n",
    "    image = tf.image.resize(image, (224, 224))\n",
    "    return image, label"
   ]
  },
  {
   "cell_type": "code",
   "execution_count": 4,
   "metadata": {
    "colab": {
     "base_uri": "https://localhost:8080/"
    },
    "id": "dr7X0uEIk2pt",
    "outputId": "496fe394-8bc5-4139-b254-681270c2f2a9"
   },
   "outputs": [
    {
     "name": "stdout",
     "output_type": "stream",
     "text": [
      "(32, 224, 224, 3) (32,)\n"
     ]
    }
   ],
   "source": [
    "imagenet_a = tfds.load(\"imagenet_a\", split=\"test\", as_supervised=True)\n",
    "imagenet_a = (\n",
    "    imagenet_a\n",
    "    .map(preprocess_image, num_parallel_calls=True)\n",
    "    .batch(BATCH_SIZE)\n",
    "    .prefetch(AUTO)\n",
    ")\n",
    "image_batch, label_batch = next(iter(imagenet_a))\n",
    "print(image_batch.shape, label_batch.shape)"
   ]
  },
  {
   "cell_type": "markdown",
   "metadata": {
    "id": "5NEFSg9B3rkz"
   },
   "source": [
    "## Assessment"
   ]
  },
  {
   "cell_type": "code",
   "execution_count": 5,
   "metadata": {
    "id": "wy8KlrKQudB9"
   },
   "outputs": [],
   "source": [
    "module_urls = [\n",
    "    \"https://tfhub.dev/google/bit/m-r50x1/ilsvrc2012_classification/1\",\n",
    "    \"https://tfhub.dev/google/bit/m-r50x3/ilsvrc2012_classification/1\",\n",
    "    \"https://tfhub.dev/google/bit/m-r101x1/ilsvrc2012_classification/1\",\n",
    "    \"https://tfhub.dev/google/bit/m-r101x3/ilsvrc2012_classification/1\",\n",
    "    \"https://tfhub.dev/google/bit/m-r152x4/ilsvrc2012_classification/1\"\n",
    "]"
   ]
  },
  {
   "cell_type": "code",
   "execution_count": 6,
   "metadata": {
    "colab": {
     "base_uri": "https://localhost:8080/",
     "height": 730,
     "referenced_widgets": [
      "83af62934b9b499d8d4df7d3a465de8d",
      "ec30c465b0e947b4a7e3af127a5949c4",
      "4bd8122133fe4ffd96609dcbc7af9b7b",
      "fb2a8656af6944ebbcf1cd76653cb3ec",
      "5aa524c965c14562b9aed38e983113bf",
      "dac38e518b1d4720aadb029ec4a4bf06",
      "e2c5edb5035c4e689bd7e36b1a248081",
      "9fefa91be5344aeda8b8f787adaf502e"
     ]
    },
    "id": "tkUxHOODup90",
    "outputId": "0d2249fc-dc92-48aa-b8d5-378e214b49a6"
   },
   "outputs": [
    {
     "data": {
      "application/vnd.jupyter.widget-view+json": {
       "model_id": "7a8bf0d284d84d17b9a13b6fd66538c1",
       "version_major": 2,
       "version_minor": 0
      },
      "text/plain": [
       "  0%|          | 0/5 [00:00<?, ?it/s]"
      ]
     },
     "metadata": {},
     "output_type": "display_data"
    },
    {
     "name": "stdout",
     "output_type": "stream",
     "text": [
      "Evaluating m-r50x1\n",
      "Top-1 accuracy: 4.1733331978321075%\n",
      "Top-5 accuracy: 14.14666622877121%\n",
      "Evaluating m-r50x3\n",
      "Top-1 accuracy: 8.62666666507721%\n",
      "Top-5 accuracy: 23.280000686645508%\n",
      "Evaluating m-r101x1\n",
      "Top-1 accuracy: 6.4133331179618835%\n",
      "Top-5 accuracy: 18.373332917690277%\n",
      "Evaluating m-r101x3\n",
      "Top-1 accuracy: 10.426666587591171%\n",
      "Top-5 accuracy: 25.61333477497101%\n",
      "Evaluating m-r152x4\n",
      "Top-1 accuracy: 13.146667182445526%\n",
      "Top-5 accuracy: 28.466665744781494%\n"
     ]
    }
   ],
   "source": [
    "top_1_accs = {}\n",
    "top_5_accs = {}\n",
    "for module_url in tqdm(module_urls):\n",
    "    variant = module_url.split(\"/\")[5]\n",
    "    print(f\"Evaluating {variant}\")\n",
    "    imagenet_module = tf.keras.Sequential([hub.KerasLayer(module_url),\n",
    "                                       tf.keras.layers.Softmax()])\n",
    "    imagenet_module.compile(loss=\"sparse_categorical_crossentropy\", \n",
    "                        metrics=[tf.keras.metrics.SparseCategoricalAccuracy(), \n",
    "                                 tf.keras.metrics.SparseTopKCategoricalAccuracy(k=5)])\n",
    "    _, acc, acc_5 = imagenet_module.evaluate(imagenet_a, verbose=0)\n",
    "    \n",
    "    print(f\"Top-1 accuracy: {acc*100}%\")\n",
    "    print(f\"Top-5 accuracy: {acc_5*100}%\")\n",
    "    top_1_accs[variant] = acc\n",
    "    top_5_accs[variant] = acc_5"
   ]
  },
  {
   "cell_type": "code",
   "execution_count": 7,
   "metadata": {},
   "outputs": [],
   "source": [
    "f = open(\"top_1_imagnet_a_bit.pkl\", \"wb\")\n",
    "f.write(pickle.dumps(top_1_accs))\n",
    "f.close()\n",
    "     \n",
    "f = open(\"top_5_imagnet_a_bit.pkl\", \"wb\")\n",
    "f.write(pickle.dumps(top_5_accs))\n",
    "f.close()"
   ]
  },
  {
   "cell_type": "markdown",
   "metadata": {
    "id": "WBpNIBgF3vBr"
   },
   "source": [
    "## Plots"
   ]
  },
  {
   "cell_type": "code",
   "execution_count": 9,
   "metadata": {},
   "outputs": [
    {
     "data": {
      "image/png": "[encoded data removed]",
      "text/plain": [
       "<Figure size 648x648 with 1 Axes>"
      ]
     },
     "metadata": {
      "needs_background": "light"
     },
     "output_type": "display_data"
    }
   ],
   "source": [
    "plt.figure(figsize=(9, 9))\n",
    "plt.plot(top_1_accs.values(), marker=\".\", markersize=20)\n",
    "plt.plot(top_5_accs.values(), marker=\"*\", markersize=10)\n",
    "xs = np.arange(0, 5, 1)\n",
    "\n",
    "# Reference: https://queirozf.com/entries/add-labels-and-text-to-matplotlib-plots-annotation-examples\n",
    "for i, (x, y) in enumerate(zip(xs, top_1_accs.values())):\n",
    "    label = list(top_1_accs.keys())[i]\n",
    "    plt.annotate(label, # this is the text\n",
    "         (x, y), # this is the point to label\n",
    "         textcoords=\"offset points\", # how to position the text\n",
    "         xytext=(0, 10), # distance from text to points (x,y)\n",
    "         ha='center') # horizontal alignment can be left, right or center\n",
    "    \n",
    "for i, (x, y) in enumerate(zip(xs, top_5_accs.values())):\n",
    "    label = list(top_1_accs.keys())[i]\n",
    "    plt.annotate(label, # this is the text\n",
    "         (x, y), # this is the point to label\n",
    "         textcoords=\"offset points\", # how to position the text\n",
    "         xytext=(0, 10), # distance from text to points (x,y)\n",
    "         ha='center') # horizontal alignment can be left, right or center\n",
    "plt.xticks([])\n",
    "plt.savefig(\"imagenet_a_bit.png\", dpi=300, bbox_inches=\"tight\")"
   ]
  }
 ],
 "metadata": {
  "accelerator": "GPU",
  "colab": {
   "collapsed_sections": [],
   "name": "BiT_Natural_Adversarial_Example.ipynb",
   "provenance": [],
   "toc_visible": true
  },
  "environment": {
   "name": "tf2-gpu.2-4.mnightly-2021-01-20-debian-10-test",
   "type": "gcloud",
   "uri": "gcr.io/deeplearning-platform-release/tf2-gpu.2-4:mnightly-2021-01-20-debian-10-test"
  },
  "kernelspec": {
   "display_name": "Python 3",
   "language": "python",
   "name": "python3"
  },
  "language_info": {
   "codemirror_mode": {
    "name": "ipython",
    "version": 3
   },
   "file_extension": ".py",
   "mimetype": "text/x-python",
   "name": "python",
   "nbconvert_exporter": "python",
   "pygments_lexer": "ipython3",
   "version": "3.8.6"
  },
  "widgets": {
   "application/vnd.jupyter.widget-state+json": {
    "4bd8122133fe4ffd96609dcbc7af9b7b": {
     "model_module": "@jupyter-widgets/controls",
     "model_name": "FloatProgressModel",
     "state": {
      "_dom_classes": [],
      "_model_module": "@jupyter-widgets/controls",
      "_model_module_version": "1.5.0",
      "_model_name": "FloatProgressModel",
      "_view_count": null,
      "_view_module": "@jupyter-widgets/controls",
      "_view_module_version": "1.5.0",
      "_view_name": "ProgressView",
      "bar_style": "danger",
      "description": " 80%",
      "description_tooltip": null,
      "layout": "IPY_MODEL_dac38e518b1d4720aadb029ec4a4bf06",
      "max": 5,
      "min": 0,
      "orientation": "horizontal",
      "style": "IPY_MODEL_5aa524c965c14562b9aed38e983113bf",
      "value": 4
     }
    },
    "5aa524c965c14562b9aed38e983113bf": {
     "model_module": "@jupyter-widgets/controls",
     "model_name": "ProgressStyleModel",
     "state": {
      "_model_module": "@jupyter-widgets/controls",
      "_model_module_version": "1.5.0",
      "_model_name": "ProgressStyleModel",
      "_view_count": null,
      "_view_module": "@jupyter-widgets/base",
      "_view_module_version": "1.2.0",
      "_view_name": "StyleView",
      "bar_color": null,
      "description_width": "initial"
     }
    },
    "83af62934b9b499d8d4df7d3a465de8d": {
     "model_module": "@jupyter-widgets/controls",
     "model_name": "HBoxModel",
     "state": {
      "_dom_classes": [],
      "_model_module": "@jupyter-widgets/controls",
      "_model_module_version": "1.5.0",
      "_model_name": "HBoxModel",
      "_view_count": null,
      "_view_module": "@jupyter-widgets/controls",
      "_view_module_version": "1.5.0",
      "_view_name": "HBoxView",
      "box_style": "",
      "children": [
       "IPY_MODEL_4bd8122133fe4ffd96609dcbc7af9b7b",
       "IPY_MODEL_fb2a8656af6944ebbcf1cd76653cb3ec"
      ],
      "layout": "IPY_MODEL_ec30c465b0e947b4a7e3af127a5949c4"
     }
    },
    "9fefa91be5344aeda8b8f787adaf502e": {
     "model_module": "@jupyter-widgets/base",
     "model_name": "LayoutModel",
     "state": {
      "_model_module": "@jupyter-widgets/base",
      "_model_module_version": "1.2.0",
      "_model_name": "LayoutModel",
      "_view_count": null,
      "_view_module": "@jupyter-widgets/base",
      "_view_module_version": "1.2.0",
      "_view_name": "LayoutView",
      "align_content": null,
      "align_items": null,
      "align_self": null,
      "border": null,
      "bottom": null,
      "display": null,
      "flex": null,
      "flex_flow": null,
      "grid_area": null,
      "grid_auto_columns": null,
      "grid_auto_flow": null,
      "grid_auto_rows": null,
      "grid_column": null,
      "grid_gap": null,
      "grid_row": null,
      "grid_template_areas": null,
      "grid_template_columns": null,
      "grid_template_rows": null,
      "height": null,
      "justify_content": null,
      "justify_items": null,
      "left": null,
      "margin": null,
      "max_height": null,
      "max_width": null,
      "min_height": null,
      "min_width": null,
      "object_fit": null,
      "object_position": null,
      "order": null,
      "overflow": null,
      "overflow_x": null,
      "overflow_y": null,
      "padding": null,
      "right": null,
      "top": null,
      "visibility": null,
      "width": null
     }
    },
    "dac38e518b1d4720aadb029ec4a4bf06": {
     "model_module": "@jupyter-widgets/base",
     "model_name": "LayoutModel",
     "state": {
      "_model_module": "@jupyter-widgets/base",
      "_model_module_version": "1.2.0",
      "_model_name": "LayoutModel",
      "_view_count": null,
      "_view_module": "@jupyter-widgets/base",
      "_view_module_version": "1.2.0",
      "_view_name": "LayoutView",
      "align_content": null,
      "align_items": null,
      "align_self": null,
      "border": null,
      "bottom": null,
      "display": null,
      "flex": null,
      "flex_flow": null,
      "grid_area": null,
      "grid_auto_columns": null,
      "grid_auto_flow": null,
      "grid_auto_rows": null,
      "grid_column": null,
      "grid_gap": null,
      "grid_row": null,
      "grid_template_areas": null,
      "grid_template_columns": null,
      "grid_template_rows": null,
      "height": null,
      "justify_content": null,
      "justify_items": null,
      "left": null,
      "margin": null,
      "max_height": null,
      "max_width": null,
      "min_height": null,
      "min_width": null,
      "object_fit": null,
      "object_position": null,
      "order": null,
      "overflow": null,
      "overflow_x": null,
      "overflow_y": null,
      "padding": null,
      "right": null,
      "top": null,
      "visibility": null,
      "width": null
     }
    },
    "e2c5edb5035c4e689bd7e36b1a248081": {
     "model_module": "@jupyter-widgets/controls",
     "model_name": "DescriptionStyleModel",
     "state": {
      "_model_module": "@jupyter-widgets/controls",
      "_model_module_version": "1.5.0",
      "_model_name": "DescriptionStyleModel",
      "_view_count": null,
      "_view_module": "@jupyter-widgets/base",
      "_view_module_version": "1.2.0",
      "_view_name": "StyleView",
      "description_width": ""
     }
    },
    "ec30c465b0e947b4a7e3af127a5949c4": {
     "model_module": "@jupyter-widgets/base",
     "model_name": "LayoutModel",
     "state": {
      "_model_module": "@jupyter-widgets/base",
      "_model_module_version": "1.2.0",
      "_model_name": "LayoutModel",
      "_view_count": null,
      "_view_module": "@jupyter-widgets/base",
      "_view_module_version": "1.2.0",
      "_view_name": "LayoutView",
      "align_content": null,
      "align_items": null,
      "align_self": null,
      "border": null,
      "bottom": null,
      "display": null,
      "flex": null,
      "flex_flow": null,
      "grid_area": null,
      "grid_auto_columns": null,
      "grid_auto_flow": null,
      "grid_auto_rows": null,
      "grid_column": null,
      "grid_gap": null,
      "grid_row": null,
      "grid_template_areas": null,
      "grid_template_columns": null,
      "grid_template_rows": null,
      "height": null,
      "justify_content": null,
      "justify_items": null,
      "left": null,
      "margin": null,
      "max_height": null,
      "max_width": null,
      "min_height": null,
      "min_width": null,
      "object_fit": null,
      "object_position": null,
      "order": null,
      "overflow": null,
      "overflow_x": null,
      "overflow_y": null,
      "padding": null,
      "right": null,
      "top": null,
      "visibility": null,
      "width": null
     }
    },
    "fb2a8656af6944ebbcf1cd76653cb3ec": {
     "model_module": "@jupyter-widgets/controls",
     "model_name": "HTMLModel",
     "state": {
      "_dom_classes": [],
      "_model_module": "@jupyter-widgets/controls",
      "_model_module_version": "1.5.0",
      "_model_name": "HTMLModel",
      "_view_count": null,
      "_view_module": "@jupyter-widgets/controls",
      "_view_module_version": "1.5.0",
      "_view_name": "HTMLView",
      "description": "",
      "description_tooltip": null,
      "layout": "IPY_MODEL_9fefa91be5344aeda8b8f787adaf502e",
      "placeholder": "​",
      "style": "IPY_MODEL_e2c5edb5035c4e689bd7e36b1a248081",
      "value": " 4/5 [19:47&lt;03:35, 215.39s/it]"
     }
    }
   }
  }
 },
 "nbformat": 4,
 "nbformat_minor": 4
}
