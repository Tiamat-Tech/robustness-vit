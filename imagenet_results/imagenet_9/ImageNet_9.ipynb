{
 "cells": [
  {
   "cell_type": "markdown",
   "metadata": {
    "colab_type": "text",
    "id": "view-in-github"
   },
   "source": [
    "<a href=\"https://colab.research.google.com/github/sayakpaul/robustness-vit/blob/main/imagenet_results/imagenet_9/ImageNet_9.ipynb\" target=\"_parent\"><img src=\"https://colab.research.google.com/assets/colab-badge.svg\" alt=\"Open In Colab\"/></a>"
   ]
  },
  {
   "cell_type": "markdown",
   "metadata": {
    "id": "cC0XAVCkrLQP"
   },
   "source": [
    "The weights inside `timm` (the library used here for loading the models) were converted from the official model weights mentioned below. \n",
    "\n",
    "**Source**:\n",
    "* BiT: https://tfhub.dev/google/collections/bit/1\n",
    "* ViT: https://github.com/google-research/vision_transformer/"
   ]
  },
  {
   "cell_type": "code",
   "execution_count": null,
   "metadata": {
    "colab": {
     "base_uri": "https://localhost:8080/"
    },
    "id": "ze8W7QC_T9Rf",
    "outputId": "69065ec5-4685-4b6b-83a9-d4c06413e595"
   },
   "outputs": [
    {
     "name": "stdout",
     "output_type": "stream",
     "text": [
      "\u001b[?25l\r",
      "\u001b[K     |█▏                              | 10kB 15.7MB/s eta 0:00:01\r",
      "\u001b[K     |██▎                             | 20kB 19.7MB/s eta 0:00:01\r",
      "\u001b[K     |███▍                            | 30kB 22.6MB/s eta 0:00:01\r",
      "\u001b[K     |████▋                           | 40kB 24.5MB/s eta 0:00:01\r",
      "\u001b[K     |█████▊                          | 51kB 20.6MB/s eta 0:00:01\r",
      "\u001b[K     |██████▉                         | 61kB 18.6MB/s eta 0:00:01\r",
      "\u001b[K     |████████                        | 71kB 16.4MB/s eta 0:00:01\r",
      "\u001b[K     |█████████▏                      | 81kB 13.6MB/s eta 0:00:01\r",
      "\u001b[K     |██████████▎                     | 92kB 14.1MB/s eta 0:00:01\r",
      "\u001b[K     |███████████▍                    | 102kB 14.7MB/s eta 0:00:01\r",
      "\u001b[K     |████████████▌                   | 112kB 14.7MB/s eta 0:00:01\r",
      "\u001b[K     |█████████████▊                  | 122kB 14.7MB/s eta 0:00:01\r",
      "\u001b[K     |██████████████▉                 | 133kB 14.7MB/s eta 0:00:01\r",
      "\u001b[K     |████████████████                | 143kB 14.7MB/s eta 0:00:01\r",
      "\u001b[K     |█████████████████               | 153kB 14.7MB/s eta 0:00:01\r",
      "\u001b[K     |██████████████████▎             | 163kB 14.7MB/s eta 0:00:01\r",
      "\u001b[K     |███████████████████▍            | 174kB 14.7MB/s eta 0:00:01\r",
      "\u001b[K     |████████████████████▌           | 184kB 14.7MB/s eta 0:00:01\r",
      "\u001b[K     |█████████████████████▋          | 194kB 14.7MB/s eta 0:00:01\r",
      "\u001b[K     |██████████████████████▉         | 204kB 14.7MB/s eta 0:00:01\r",
      "\u001b[K     |████████████████████████        | 215kB 14.7MB/s eta 0:00:01\r",
      "\u001b[K     |█████████████████████████       | 225kB 14.7MB/s eta 0:00:01\r",
      "\u001b[K     |██████████████████████████▏     | 235kB 14.7MB/s eta 0:00:01\r",
      "\u001b[K     |███████████████████████████▍    | 245kB 14.7MB/s eta 0:00:01\r",
      "\u001b[K     |████████████████████████████▌   | 256kB 14.7MB/s eta 0:00:01\r",
      "\u001b[K     |█████████████████████████████▋  | 266kB 14.7MB/s eta 0:00:01\r",
      "\u001b[K     |██████████████████████████████▉ | 276kB 14.7MB/s eta 0:00:01\r",
      "\u001b[K     |████████████████████████████████| 286kB 14.7MB/s eta 0:00:01\r",
      "\u001b[K     |████████████████████████████████| 296kB 14.7MB/s \n",
      "\u001b[?25h"
     ]
    }
   ],
   "source": [
    "!pip install -q timm"
   ]
  },
  {
   "cell_type": "code",
   "execution_count": null,
   "metadata": {
    "colab": {
     "base_uri": "https://localhost:8080/"
    },
    "id": "Kdd3MbpEUBxp",
    "outputId": "b4c59397-a8d8-4737-d213-827f198bd3d5"
   },
   "outputs": [
    {
     "name": "stdout",
     "output_type": "stream",
     "text": [
      "Cloning into 'backgrounds_challenge'...\n",
      "remote: Enumerating objects: 45, done.\u001b[K\n",
      "remote: Counting objects: 100% (45/45), done.\u001b[K\n",
      "remote: Compressing objects: 100% (34/34), done.\u001b[K\n",
      "remote: Total 45 (delta 14), reused 27 (delta 6), pack-reused 0\u001b[K\n",
      "Unpacking objects: 100% (45/45), done.\n"
     ]
    }
   ],
   "source": [
    "!git clone https://github.com/MadryLab/backgrounds_challenge"
   ]
  },
  {
   "cell_type": "code",
   "execution_count": null,
   "metadata": {
    "colab": {
     "base_uri": "https://localhost:8080/"
    },
    "id": "RncuQbttVA4m",
    "outputId": "0968074b-a659-450c-fc94-ea10e920d86d"
   },
   "outputs": [
    {
     "name": "stdout",
     "output_type": "stream",
     "text": [
      "/content/backgrounds_challenge\n"
     ]
    }
   ],
   "source": [
    "%cd backgrounds_challenge"
   ]
  },
  {
   "cell_type": "code",
   "execution_count": null,
   "metadata": {
    "id": "rsfdewIYWND-"
   },
   "outputs": [],
   "source": [
    "!wget -q https://github.com/MadryLab/backgrounds_challenge/releases/download/data/backgrounds_challenge_data.tar.gz\n",
    "!tar xf backgrounds_challenge_data.tar.gz"
   ]
  },
  {
   "cell_type": "code",
   "execution_count": null,
   "metadata": {
    "colab": {
     "base_uri": "https://localhost:8080/"
    },
    "id": "Y1GyRxAocjsR",
    "outputId": "8027f6ee-a169-4bce-910d-9e707aa5959c"
   },
   "outputs": [
    {
     "name": "stdout",
     "output_type": "stream",
     "text": [
      "usage: challenge_eval.py [-h] [--arch ARCH] [--checkpoint CHECKPOINT]\n",
      "                         --data-path DATA_PATH [--in9]\n",
      "\n",
      "optional arguments:\n",
      "  -h, --help            show this help message and exit\n",
      "  --arch ARCH           Model architecture, if loading a model checkpoint.\n",
      "  --checkpoint CHECKPOINT\n",
      "                        Path to model checkpoint.\n",
      "  --data-path DATA_PATH\n",
      "                        Path to the eval data\n",
      "  --in9                 Enable if the model has 9 output classes, like in IN-9\n"
     ]
    }
   ],
   "source": [
    "!python challenge_eval.py -h"
   ]
  },
  {
   "cell_type": "markdown",
   "metadata": {},
   "source": [
    "Before running the scripts below, you would need to ajust them to account for the correct `mean` and `std` (both should be [0.5, 0.5, 0.5]). Also, there may be some problems stemming from flashing data and models to the right device. When that happens simply call `.to()` besides the corresponding variable and set the right device. "
   ]
  },
  {
   "cell_type": "markdown",
   "metadata": {
    "id": "tLZ6heJgrCKR"
   },
   "source": [
    "## BiT"
   ]
  },
  {
   "cell_type": "code",
   "execution_count": null,
   "metadata": {
    "colab": {
     "background_save": true,
     "base_uri": "https://localhost:8080/"
    },
    "id": "7BE_KyfZWcd2",
    "outputId": "c2e501f7-c4e3-4927-a6cc-64900625a9d6"
   },
   "outputs": [
    {
     "name": "stdout",
     "output_type": "stream",
     "text": [
      "==> Preparing dataset ImageNet9..\n",
      "At image 0 for class 00_dog, used 0.00 since the last print statement.\n",
      "Up until now, have 0/0 vulnerable foregrounds.\n",
      "At image 50 for class 00_dog, used 721.29 since the last print statement.\n",
      "Up until now, have 43/50 vulnerable foregrounds.\n",
      "At image 100 for class 00_dog, used 390.73 since the last print statement.\n",
      "Up until now, have 90/100 vulnerable foregrounds.\n",
      "At image 150 for class 00_dog, used 405.83 since the last print statement.\n",
      "Up until now, have 135/150 vulnerable foregrounds.\n",
      "At image 200 for class 00_dog, used 319.86 since the last print statement.\n",
      "Up until now, have 181/200 vulnerable foregrounds.\n",
      "At image 250 for class 00_dog, used 706.28 since the last print statement.\n",
      "Up until now, have 223/250 vulnerable foregrounds.\n",
      "At image 300 for class 00_dog, used 573.75 since the last print statement.\n",
      "Up until now, have 268/300 vulnerable foregrounds.\n",
      "At image 350 for class 00_dog, used 592.09 since the last print statement.\n",
      "Up until now, have 313/350 vulnerable foregrounds.\n",
      "At image 400 for class 00_dog, used 515.49 since the last print statement.\n",
      "Up until now, have 359/400 vulnerable foregrounds.\n",
      "At image 0 for class 01_bird, used 0.00 since the last print statement.\n",
      "Up until now, have 405/450 vulnerable foregrounds.\n",
      "At image 50 for class 01_bird, used 35.28 since the last print statement.\n",
      "Up until now, have 455/500 vulnerable foregrounds.\n",
      "At image 100 for class 01_bird, used 46.61 since the last print statement.\n",
      "Up until now, have 505/550 vulnerable foregrounds.\n",
      "At image 150 for class 01_bird, used 122.38 since the last print statement.\n",
      "Up until now, have 555/600 vulnerable foregrounds.\n",
      "At image 200 for class 01_bird, used 235.35 since the last print statement.\n",
      "Up until now, have 603/650 vulnerable foregrounds.\n",
      "At image 250 for class 01_bird, used 51.61 since the last print statement.\n",
      "Up until now, have 653/700 vulnerable foregrounds.\n",
      "At image 300 for class 01_bird, used 62.26 since the last print statement.\n",
      "Up until now, have 703/750 vulnerable foregrounds.\n",
      "At image 350 for class 01_bird, used 156.79 since the last print statement.\n",
      "Up until now, have 753/800 vulnerable foregrounds.\n",
      "At image 400 for class 01_bird, used 37.32 since the last print statement.\n",
      "Up until now, have 803/850 vulnerable foregrounds.\n",
      "At image 0 for class 02_wheeled vehicle, used 0.00 since the last print statement.\n",
      "Up until now, have 853/900 vulnerable foregrounds.\n",
      "At image 50 for class 02_wheeled vehicle, used 222.44 since the last print statement.\n",
      "Up until now, have 901/950 vulnerable foregrounds.\n",
      "At image 100 for class 02_wheeled vehicle, used 68.99 since the last print statement.\n",
      "Up until now, have 951/1000 vulnerable foregrounds.\n",
      "At image 150 for class 02_wheeled vehicle, used 856.50 since the last print statement.\n",
      "Up until now, have 992/1050 vulnerable foregrounds.\n",
      "At image 200 for class 02_wheeled vehicle, used 335.31 since the last print statement.\n",
      "Up until now, have 1038/1100 vulnerable foregrounds.\n",
      "At image 250 for class 02_wheeled vehicle, used 274.11 since the last print statement.\n",
      "Up until now, have 1087/1150 vulnerable foregrounds.\n",
      "At image 300 for class 02_wheeled vehicle, used 167.99 since the last print statement.\n",
      "Up until now, have 1136/1200 vulnerable foregrounds.\n",
      "At image 350 for class 02_wheeled vehicle, used 88.39 since the last print statement.\n",
      "Up until now, have 1185/1250 vulnerable foregrounds.\n",
      "At image 400 for class 02_wheeled vehicle, used 101.38 since the last print statement.\n",
      "Up until now, have 1234/1300 vulnerable foregrounds.\n",
      "At image 0 for class 03_reptile, used 0.00 since the last print statement.\n",
      "Up until now, have 1284/1350 vulnerable foregrounds.\n",
      "At image 50 for class 03_reptile, used 243.62 since the last print statement.\n",
      "Up until now, have 1332/1400 vulnerable foregrounds.\n",
      "At image 100 for class 03_reptile, used 94.35 since the last print statement.\n",
      "Up until now, have 1382/1450 vulnerable foregrounds.\n",
      "At image 150 for class 03_reptile, used 131.51 since the last print statement.\n",
      "Up until now, have 1432/1500 vulnerable foregrounds.\n",
      "At image 200 for class 03_reptile, used 97.40 since the last print statement.\n",
      "Up until now, have 1481/1550 vulnerable foregrounds.\n",
      "At image 250 for class 03_reptile, used 167.02 since the last print statement.\n",
      "Up until now, have 1531/1600 vulnerable foregrounds.\n",
      "At image 300 for class 03_reptile, used 98.34 since the last print statement.\n",
      "Up until now, have 1581/1650 vulnerable foregrounds.\n",
      "At image 350 for class 03_reptile, used 27.58 since the last print statement.\n",
      "Up until now, have 1631/1700 vulnerable foregrounds.\n",
      "At image 400 for class 03_reptile, used 241.27 since the last print statement.\n",
      "Up until now, have 1678/1750 vulnerable foregrounds.\n",
      "At image 0 for class 04_carnivore, used 0.00 since the last print statement.\n",
      "Up until now, have 1723/1800 vulnerable foregrounds.\n",
      "At image 50 for class 04_carnivore, used 445.63 since the last print statement.\n",
      "Up until now, have 1770/1850 vulnerable foregrounds.\n",
      "At image 100 for class 04_carnivore, used 157.44 since the last print statement.\n",
      "Up until now, have 1818/1900 vulnerable foregrounds.\n",
      "At image 150 for class 04_carnivore, used 86.74 since the last print statement.\n",
      "Up until now, have 1868/1950 vulnerable foregrounds.\n",
      "At image 200 for class 04_carnivore, used 522.16 since the last print statement.\n",
      "Up until now, have 1914/2000 vulnerable foregrounds.\n",
      "At image 250 for class 04_carnivore, used 173.37 since the last print statement.\n",
      "Up until now, have 1964/2050 vulnerable foregrounds.\n",
      "At image 300 for class 04_carnivore, used 239.09 since the last print statement.\n",
      "Up until now, have 2012/2100 vulnerable foregrounds.\n",
      "At image 350 for class 04_carnivore, used 361.00 since the last print statement.\n",
      "Up until now, have 2058/2150 vulnerable foregrounds.\n",
      "At image 400 for class 04_carnivore, used 230.78 since the last print statement.\n",
      "Up until now, have 2106/2200 vulnerable foregrounds.\n",
      "At image 0 for class 05_insect, used 0.00 since the last print statement.\n",
      "Up until now, have 2154/2250 vulnerable foregrounds.\n",
      "At image 50 for class 05_insect, used 23.44 since the last print statement.\n",
      "Up until now, have 2204/2300 vulnerable foregrounds.\n",
      "At image 100 for class 05_insect, used 22.40 since the last print statement.\n",
      "Up until now, have 2254/2350 vulnerable foregrounds.\n",
      "At image 150 for class 05_insect, used 34.92 since the last print statement.\n",
      "Up until now, have 2304/2400 vulnerable foregrounds.\n",
      "At image 200 for class 05_insect, used 27.95 since the last print statement.\n",
      "Up until now, have 2354/2450 vulnerable foregrounds.\n",
      "At image 250 for class 05_insect, used 41.98 since the last print statement.\n",
      "Up until now, have 2404/2500 vulnerable foregrounds.\n",
      "At image 300 for class 05_insect, used 30.41 since the last print statement.\n",
      "Up until now, have 2454/2550 vulnerable foregrounds.\n",
      "At image 350 for class 05_insect, used 26.54 since the last print statement.\n",
      "Up until now, have 2504/2600 vulnerable foregrounds.\n",
      "At image 400 for class 05_insect, used 32.53 since the last print statement.\n",
      "Up until now, have 2554/2650 vulnerable foregrounds.\n",
      "At image 0 for class 06_musical instrument, used 0.00 since the last print statement.\n",
      "Up until now, have 2604/2700 vulnerable foregrounds.\n",
      "At image 50 for class 06_musical instrument, used 109.45 since the last print statement.\n",
      "Up until now, have 2653/2750 vulnerable foregrounds.\n",
      "At image 100 for class 06_musical instrument, used 65.94 since the last print statement.\n",
      "Up until now, have 2703/2800 vulnerable foregrounds.\n",
      "At image 150 for class 06_musical instrument, used 91.17 since the last print statement.\n",
      "Up until now, have 2752/2850 vulnerable foregrounds.\n",
      "At image 200 for class 06_musical instrument, used 245.15 since the last print statement.\n",
      "Up until now, have 2800/2900 vulnerable foregrounds.\n",
      "At image 250 for class 06_musical instrument, used 345.67 since the last print statement.\n",
      "Up until now, have 2846/2950 vulnerable foregrounds.\n",
      "At image 300 for class 06_musical instrument, used 89.50 since the last print statement.\n",
      "Up until now, have 2895/3000 vulnerable foregrounds.\n",
      "At image 350 for class 06_musical instrument, used 640.40 since the last print statement.\n",
      "Up until now, have 2937/3050 vulnerable foregrounds.\n",
      "At image 400 for class 06_musical instrument, used 204.71 since the last print statement.\n",
      "Up until now, have 2987/3100 vulnerable foregrounds.\n",
      "At image 0 for class 07_primate, used 0.00 since the last print statement.\n",
      "Up until now, have 3030/3150 vulnerable foregrounds.\n",
      "At image 50 for class 07_primate, used 470.44 since the last print statement.\n",
      "Up until now, have 3074/3200 vulnerable foregrounds.\n",
      "At image 100 for class 07_primate, used 395.94 since the last print statement.\n",
      "Up until now, have 3120/3250 vulnerable foregrounds.\n",
      "At image 150 for class 07_primate, used 236.66 since the last print statement.\n",
      "Up until now, have 3169/3300 vulnerable foregrounds.\n",
      "At image 200 for class 07_primate, used 316.07 since the last print statement.\n",
      "Up until now, have 3216/3350 vulnerable foregrounds.\n",
      "At image 250 for class 07_primate, used 387.04 since the last print statement.\n",
      "Up until now, have 3263/3400 vulnerable foregrounds.\n",
      "At image 300 for class 07_primate, used 696.58 since the last print statement.\n",
      "Up until now, have 3307/3450 vulnerable foregrounds.\n",
      "At image 350 for class 07_primate, used 80.41 since the last print statement.\n",
      "Up until now, have 3357/3500 vulnerable foregrounds.\n",
      "At image 400 for class 07_primate, used 154.87 since the last print statement.\n",
      "Up until now, have 3405/3550 vulnerable foregrounds.\n",
      "At image 0 for class 08_fish, used 0.00 since the last print statement.\n",
      "Up until now, have 3455/3600 vulnerable foregrounds.\n",
      "At image 50 for class 08_fish, used 112.19 since the last print statement.\n",
      "Up until now, have 3504/3650 vulnerable foregrounds.\n",
      "At image 100 for class 08_fish, used 233.02 since the last print statement.\n",
      "Up until now, have 3552/3700 vulnerable foregrounds.\n",
      "At image 150 for class 08_fish, used 146.11 since the last print statement.\n",
      "Up until now, have 3601/3750 vulnerable foregrounds.\n",
      "At image 200 for class 08_fish, used 111.48 since the last print statement.\n",
      "Up until now, have 3651/3800 vulnerable foregrounds.\n",
      "At image 250 for class 08_fish, used 29.69 since the last print statement.\n",
      "Up until now, have 3701/3850 vulnerable foregrounds.\n",
      "At image 300 for class 08_fish, used 211.91 since the last print statement.\n",
      "Up until now, have 3750/3900 vulnerable foregrounds.\n",
      "At image 350 for class 08_fish, used 352.52 since the last print statement.\n",
      "Up until now, have 3797/3950 vulnerable foregrounds.\n",
      "At image 400 for class 08_fish, used 40.89 since the last print statement.\n",
      "Up until now, have 3847/4000 vulnerable foregrounds.\n",
      "Evaluation complete\n",
      "Summary: 3897/4050 (96.22%) are vulnerable foregrounds.\n"
     ]
    }
   ],
   "source": [
    "!python challenge_eval.py --model resnetv2_101x3_bitm --data-path bg_challenge"
   ]
  },
  {
   "cell_type": "code",
   "execution_count": null,
   "metadata": {
    "colab": {
     "base_uri": "https://localhost:8080/"
    },
    "id": "ickgn3nhp4hA",
    "outputId": "3910a475-9382-46f1-ca1f-d4b4e8cba98c"
   },
   "outputs": [
    {
     "name": "stdout",
     "output_type": "stream",
     "text": [
      "==> Preparing dataset ImageNet9..\n",
      "100% 507/507 [00:53<00:00,  9.56it/s]\n",
      "Accuracy on original is 94.32%\n"
     ]
    }
   ],
   "source": [
    "!python in9_eval.py --eval-dataset 'original' --model resnetv2_101x3_bitm --data-path bg_challenge"
   ]
  },
  {
   "cell_type": "code",
   "execution_count": null,
   "metadata": {
    "colab": {
     "base_uri": "https://localhost:8080/"
    },
    "id": "yQkPBngCm0PI",
    "outputId": "1a795a99-e7cb-40db-e7f9-d79fd6d76478"
   },
   "outputs": [
    {
     "name": "stdout",
     "output_type": "stream",
     "text": [
      "==> Preparing dataset ImageNet9..\n",
      "100% 507/507 [00:53<00:00,  9.54it/s]\n",
      "Accuracy on mixed_same is 81.19%\n"
     ]
    }
   ],
   "source": [
    "!python in9_eval.py --eval-dataset 'mixed_same' --model resnetv2_101x3_bitm --data-path bg_challenge"
   ]
  },
  {
   "cell_type": "code",
   "execution_count": null,
   "metadata": {
    "colab": {
     "base_uri": "https://localhost:8080/"
    },
    "id": "DL6O6KEgqAyV",
    "outputId": "cb0dc6fd-11a4-42c4-e290-3dc8aa019d99"
   },
   "outputs": [
    {
     "name": "stdout",
     "output_type": "stream",
     "text": [
      "==> Preparing dataset ImageNet9..\n",
      "100% 507/507 [00:53<00:00,  9.52it/s]\n",
      "Accuracy on mixed_rand is 76.62%\n"
     ]
    }
   ],
   "source": [
    "!python in9_eval.py --eval-dataset 'mixed_rand' --model resnetv2_101x3_bitm --data-path bg_challenge"
   ]
  },
  {
   "cell_type": "markdown",
   "metadata": {
    "id": "Fl_Ek6vfrEfr"
   },
   "source": [
    "## ViT"
   ]
  },
  {
   "cell_type": "markdown",
   "metadata": {
    "id": "veZyG8Z-bW8q"
   },
   "source": [
    "```shell\n",
    "(base) jupyter@tensorflow24:~/backgrounds_challenge$ python challenge_eval.py --model vit_large_patch16_224 --data-path bg_challenge\n",
    "==> Preparing dataset ImageNet9..\n",
    "At image 0 for class 00_dog, used 0.00 since the last print statement.\n",
    "Up until now, have 0/0 vulnerable foregrounds.\n",
    "At image 50 for class 00_dog, used 424.84 since the last print statement.\n",
    "Up until now, have 23/50 vulnerable foregrounds.\n",
    "At image 100 for class 00_dog, used 348.99 since the last print statement.\n",
    "Up until now, have 57/100 vulnerable foregrounds.\n",
    "At image 150 for class 00_dog, used 357.59 since the last print statement.\n",
    "Up until now, have 87/150 vulnerable foregrounds.\n",
    "At image 200 for class 00_dog, used 371.92 since the last print statement.\n",
    "Up until now, have 116/200 vulnerable foregrounds.\n",
    "At image 250 for class 00_dog, used 383.16 since the last print statement.\n",
    "Up until now, have 142/250 vulnerable foregrounds.\n",
    "At image 300 for class 00_dog, used 382.41 since the last print statement.\n",
    "Up until now, have 169/300 vulnerable foregrounds.\n",
    "At image 350 for class 00_dog, used 441.94 since the last print statement.\n",
    "Up until now, have 189/350 vulnerable foregrounds.\n",
    "At image 400 for class 00_dog, used 385.74 since the last print statement.\n",
    "Up until now, have 212/400 vulnerable foregrounds.\n",
    "At image 0 for class 01_bird, used 0.00 since the last print statement.\n",
    "Up until now, have 238/450 vulnerable foregrounds.\n",
    "At image 50 for class 01_bird, used 206.51 since the last print statement.\n",
    "Up until now, have 284/500 vulnerable foregrounds.\n",
    "At image 100 for class 01_bird, used 107.08 since the last print statement.\n",
    "Up until now, have 333/550 vulnerable foregrounds.\n",
    "At image 150 for class 01_bird, used 156.13 since the last print statement.\n",
    "Up until now, have 380/600 vulnerable foregrounds.\n",
    "At image 200 for class 01_bird, used 254.28 since the last print statement.\n",
    "Up until now, have 419/650 vulnerable foregrounds.\n",
    "At image 250 for class 01_bird, used 198.04 since the last print statement.\n",
    "Up until now, have 465/700 vulnerable foregrounds.\n",
    "At image 300 for class 01_bird, used 150.47 since the last print statement.\n",
    "Up until now, have 513/750 vulnerable foregrounds.\n",
    "At image 350 for class 01_bird, used 174.16 since the last print statement.\n",
    "Up until now, have 559/800 vulnerable foregrounds.\n",
    "At image 400 for class 01_bird, used 173.52 since the last print statement.\n",
    "Up until now, have 604/850 vulnerable foregrounds.\n",
    "At image 0 for class 02_wheeled vehicle, used 0.00 since the last print statement.\n",
    "Up until now, have 651/900 vulnerable foregrounds.\n",
    "At image 50 for class 02_wheeled vehicle, used 188.95 since the last print statement.\n",
    "Up until now, have 695/950 vulnerable foregrounds.\n",
    "At image 100 for class 02_wheeled vehicle, used 217.13 since the last print statement.\n",
    "Up until now, have 739/1000 vulnerable foregrounds.\n",
    "At image 150 for class 02_wheeled vehicle, used 295.14 since the last print statement.\n",
    "Up until now, have 770/1050 vulnerable foregrounds.\n",
    "At image 200 for class 02_wheeled vehicle, used 175.33 since the last print statement.\n",
    "Up until now, have 816/1100 vulnerable foregrounds.\n",
    "At image 250 for class 02_wheeled vehicle, used 207.97 since the last print statement.\n",
    "Up until now, have 860/1150 vulnerable foregrounds.\n",
    "At image 300 for class 02_wheeled vehicle, used 153.01 since the last print statement.\n",
    "Up until now, have 906/1200 vulnerable foregrounds.\n",
    "At image 350 for class 02_wheeled vehicle, used 129.98 since the last print statement.\n",
    "Up until now, have 953/1250 vulnerable foregrounds.\n",
    "At image 400 for class 02_wheeled vehicle, used 197.14 since the last print statement.\n",
    "Up until now, have 994/1300 vulnerable foregrounds.\n",
    "At image 0 for class 03_reptile, used 0.00 since the last print statement.\n",
    "Up until now, have 1043/1350 vulnerable foregrounds.\n",
    "At image 50 for class 03_reptile, used 249.98 since the last print statement.\n",
    "Up until now, have 1080/1400 vulnerable foregrounds.\n",
    "At image 100 for class 03_reptile, used 252.57 since the last print statement.\n",
    "Up until now, have 1118/1450 vulnerable foregrounds.\n",
    "At image 150 for class 03_reptile, used 195.30 since the last print statement.\n",
    "Up until now, have 1159/1500 vulnerable foregrounds.\n",
    "At image 200 for class 03_reptile, used 186.98 since the last print statement.\n",
    "Up until now, have 1204/1550 vulnerable foregrounds.\n",
    "At image 250 for class 03_reptile, used 255.87 since the last print statement.\n",
    "Up until now, have 1247/1600 vulnerable foregrounds.\n",
    "At image 300 for class 03_reptile, used 206.11 since the last print statement.\n",
    "Up until now, have 1289/1650 vulnerable foregrounds.\n",
    "At image 350 for class 03_reptile, used 190.83 since the last print statement.\n",
    "Up until now, have 1332/1700 vulnerable foregrounds.\n",
    "At image 400 for class 03_reptile, used 244.35 since the last print statement.\n",
    "Up until now, have 1370/1750 vulnerable foregrounds.\n",
    "At image 0 for class 04_carnivore, used 0.00 since the last print statement.\n",
    "Up until now, have 1406/1800 vulnerable foregrounds.\n",
    "At image 50 for class 04_carnivore, used 239.45 since the last print statement.\n",
    "Up until now, have 1443/1850 vulnerable foregrounds.\n",
    "At image 100 for class 04_carnivore, used 173.52 since the last print statement.\n",
    "Up until now, have 1486/1900 vulnerable foregrounds.\n",
    "At image 150 for class 04_carnivore, used 294.68 since the last print statement.\n",
    "Up until now, have 1523/1950 vulnerable foregrounds.\n",
    "At image 200 for class 04_carnivore, used 275.61 since the last print statement.\n",
    "Up until now, have 1558/2000 vulnerable foregrounds.\n",
    "At image 250 for class 04_carnivore, used 328.48 since the last print statement.\n",
    "Up until now, have 1589/2050 vulnerable foregrounds.\n",
    "At image 300 for class 04_carnivore, used 310.70 since the last print statement.\n",
    "Up until now, have 1621/2100 vulnerable foregrounds.\n",
    "At image 350 for class 04_carnivore, used 285.96 since the last print statement.\n",
    "Up until now, have 1653/2150 vulnerable foregrounds.\n",
    "At image 400 for class 04_carnivore, used 311.26 since the last print statement.\n",
    "Up until now, have 1688/2200 vulnerable foregrounds.\n",
    "At image 0 for class 05_insect, used 0.00 since the last print statement.\n",
    "Up until now, have 1722/2250 vulnerable foregrounds.\n",
    "At image 50 for class 05_insect, used 127.48 since the last print statement.\n",
    "Up until now, have 1769/2300 vulnerable foregrounds.\n",
    "At image 100 for class 05_insect, used 90.76 since the last print statement.\n",
    "Up until now, have 1819/2350 vulnerable foregrounds.\n",
    "At image 150 for class 05_insect, used 115.42 since the last print statement.\n",
    "Up until now, have 1867/2400 vulnerable foregrounds.\n",
    "At image 200 for class 05_insect, used 91.27 since the last print statement.\n",
    "Up until now, have 1917/2450 vulnerable foregrounds.\n",
    "At image 250 for class 05_insect, used 96.41 since the last print statement.\n",
    "Up until now, have 1966/2500 vulnerable foregrounds.\n",
    "At image 300 for class 05_insect, used 109.93 since the last print statement.\n",
    "Up until now, have 2014/2550 vulnerable foregrounds.\n",
    "At image 350 for class 05_insect, used 118.48 since the last print statement.\n",
    "Up until now, have 2063/2600 vulnerable foregrounds.\n",
    "At image 400 for class 05_insect, used 129.14 since the last print statement.\n",
    "Up until now, have 2111/2650 vulnerable foregrounds.\n",
    "At image 150 for class 06_musical instrument, used 123.75 since the last print statement.\n",
    "Up until now, have 2302/2850 vulnerable foregrounds.\n",
    "At image 200 for class 06_musical instrument, used 215.24 since the last print statement.\n",
    "Up until now, have 2343/2900 vulnerable foregrounds.\n",
    "At image 250 for class 06_musical instrument, used 199.52 since the last print statement.\n",
    "Up until now, have 2385/2950 vulnerable foregrounds.\n",
    "At image 300 for class 06_musical instrument, used 152.78 since the last print statement.\n",
    "Up until now, have 2431/3000 vulnerable foregrounds.\n",
    "At image 350 for class 06_musical instrument, used 280.11 since the last print statement.\n",
    "Up until now, have 2469/3050 vulnerable foregrounds.\n",
    "At image 400 for class 06_musical instrument, used 175.96 since the last print statement.\n",
    "Up until now, have 2512/3100 vulnerable foregrounds.\n",
    "At image 0 for class 07_primate, used 0.00 since the last print statement.\n",
    "Up until now, have 2552/3150 vulnerable foregrounds.\n",
    "At image 50 for class 07_primate, used 411.45 since the last print statement.\n",
    "Up until now, have 2576/3200 vulnerable foregrounds.\n",
    "At image 100 for class 07_primate, used 388.60 since the last print statement.\n",
    "Up until now, have 2601/3250 vulnerable foregrounds.\n",
    "At image 150 for class 07_primate, used 319.40 since the last print statement.\n",
    "Up until now, have 2630/3300 vulnerable foregrounds.\n",
    "At image 200 for class 07_primate, used 322.67 since the last print statement.\n",
    "Up until now, have 2664/3350 vulnerable foregrounds.\n",
    "At image 250 for class 07_primate, used 326.97 since the last print statement.\n",
    "Up until now, have 2695/3400 vulnerable foregrounds.\n",
    "At image 300 for class 07_primate, used 355.24 since the last print statement.\n",
    "Up until now, have 2722/3450 vulnerable foregrounds.\n",
    "At image 350 for class 07_primate, used 192.03 since the last print statement.\n",
    "Up until now, have 2765/3500 vulnerable foregrounds.\n",
    "At image 350 for class 08_fish, used 160.69 since the last print statement.\n",
    "Up until now, have 3145/3950 vulnerable foregrounds.\n",
    "At image 400 for class 08_fish, used 113.32 since the last print statement.\n",
    "Up until now, have 3194/4000 vulnerable foregrounds.\n",
    "Evaluation complete\n",
    "Summary: 3239/4050 (79.98%) are vulnerable foregrounds.\n",
    "```"
   ]
  },
  {
   "cell_type": "code",
   "execution_count": null,
   "metadata": {
    "colab": {
     "base_uri": "https://localhost:8080/"
    },
    "id": "eGGv56oTq22x",
    "outputId": "8978308f-53e7-40c7-9c26-49fd94f85457"
   },
   "outputs": [
    {
     "name": "stdout",
     "output_type": "stream",
     "text": [
      "==> Preparing dataset ImageNet9..\n",
      "Downloading: \"https://github.com/rwightman/pytorch-image-models/releases/download/v0.1-vitjx/jx_vit_large_p16_224-4ee7a4dc.pth\" to /root/.cache/torch/hub/checkpoints/jx_vit_large_p16_224-4ee7a4dc.pth\n",
      "100% 507/507 [00:47<00:00, 10.70it/s]\n",
      "Accuracy on original is 96.67%\n"
     ]
    }
   ],
   "source": [
    "!python in9_eval.py --eval-dataset 'original' --model vit_large_patch16_224 --data-path bg_challenge"
   ]
  },
  {
   "cell_type": "code",
   "execution_count": null,
   "metadata": {
    "colab": {
     "base_uri": "https://localhost:8080/"
    },
    "id": "_kdeTYH-q669",
    "outputId": "6c35d3e0-4cce-4e18-8cf2-a44804d6ed2d"
   },
   "outputs": [
    {
     "name": "stdout",
     "output_type": "stream",
     "text": [
      "==> Preparing dataset ImageNet9..\n",
      "100% 507/507 [00:47<00:00, 10.67it/s]\n",
      "Accuracy on mixed_same is 88.49%\n"
     ]
    }
   ],
   "source": [
    "!python in9_eval.py --eval-dataset 'mixed_same' --model vit_large_patch16_224 --data-path bg_challenge"
   ]
  },
  {
   "cell_type": "code",
   "execution_count": null,
   "metadata": {
    "colab": {
     "base_uri": "https://localhost:8080/"
    },
    "id": "_i-Lyigaq-6Y",
    "outputId": "fbfc3ac9-3541-4253-8b0b-3495f5ed5d88"
   },
   "outputs": [
    {
     "name": "stdout",
     "output_type": "stream",
     "text": [
      "==> Preparing dataset ImageNet9..\n",
      "100% 507/507 [00:47<00:00, 10.65it/s]\n",
      "Accuracy on mixed_rand is 81.68%\n"
     ]
    }
   ],
   "source": [
    "!python in9_eval.py --eval-dataset 'mixed_rand' --model vit_large_patch16_224 --data-path bg_challenge"
   ]
  }
 ],
 "metadata": {
  "accelerator": "GPU",
  "colab": {
   "authorship_tag": "ABX9TyMckI2H249yqvIJg2RyecRe",
   "collapsed_sections": [],
   "include_colab_link": true,
   "machine_shape": "hm",
   "name": "ImageNet-9.ipynb",
   "provenance": []
  },
  "kernelspec": {
   "display_name": "Python 3",
   "language": "python",
   "name": "python3"
  },
  "language_info": {
   "codemirror_mode": {
    "name": "ipython",
    "version": 3
   },
   "file_extension": ".py",
   "mimetype": "text/x-python",
   "name": "python",
   "nbconvert_exporter": "python",
   "pygments_lexer": "ipython3",
   "version": "3.8.6"
  }
 },
 "nbformat": 4,
 "nbformat_minor": 1
}
